{
 "cells": [
  {
   "cell_type": "code",
   "execution_count": null,
   "metadata": {},
   "outputs": [],
   "source": [
    "from sklearn.linear_model import Lasso\n",
    "from yellowbrick.regressor import PredictError\n",
    "\n",
    "# visualizer = PredictError(Lasso())\n",
    "# visualizer.fit(X_train,y_train)\n",
    "# visualizer.score(X_test,y_test)\n",
    "# visualizer.poof()\n"
   ]
  },
  {
   "cell_type": "code",
   "execution_count": 1,
   "metadata": {},
   "outputs": [],
   "source": [
    "#importing libraries \n",
    "\n",
    "import pandas as pd \n",
    "import numpy as np\n",
    "import matplotlib.pyplot as plt\n",
    "import seaborn as sns\n",
    "from scipy import stats\n",
    "from sklearn.preprocessing import StandardScaler\n",
    "from sklearn.model_selection import train_test_split\n",
    "from xgboost import XGBRegressor\n",
    "from sklearn import metrics\n",
    "from sklearn.model_selection import RepeatedKFold\n"
   ]
  },
  {
   "cell_type": "code",
   "execution_count": 2,
   "metadata": {},
   "outputs": [
    {
     "name": "stdout",
     "output_type": "stream",
     "text": [
      "                ID  age   gender                    education  \\\n",
      "0        ID_TZ0000   79   Female         High school graduate   \n",
      "1        ID_TZ0001   65   Female         High school graduate   \n",
      "2        ID_TZ0002   21     Male        12th grade no diploma   \n",
      "3        ID_TZ0003    2   Female                     Children   \n",
      "4        ID_TZ0004   70     Male         High school graduate   \n",
      "...            ...  ...      ...                          ...   \n",
      "209494  ID_TZ99995   16   Female            7th and 8th grade   \n",
      "209495  ID_TZ99996   78     Male   Bachelors degree(BA AB BS)   \n",
      "209496  ID_TZ99997    8   Female                     Children   \n",
      "209497  ID_TZ99998   26   Female   Some college but no degree   \n",
      "209498  ID_TZ99999   19     Male                   11th grade   \n",
      "\n",
      "                      class education_institute  \\\n",
      "0                       NaN                 NaN   \n",
      "1                       NaN                 NaN   \n",
      "2        Federal government                 NaN   \n",
      "3                       NaN                 NaN   \n",
      "4                       NaN                 NaN   \n",
      "...                     ...                 ...   \n",
      "209494                  NaN         High school   \n",
      "209495                  NaN                 NaN   \n",
      "209496                  NaN                 NaN   \n",
      "209497              Private                 NaN   \n",
      "209498     Local government         High school   \n",
      "\n",
      "                          marital_status                        race  \\\n",
      "0                                Widowed                       White   \n",
      "1                                Widowed                       White   \n",
      "2                          Never married                       Black   \n",
      "3                          Never married   Asian or Pacific Islander   \n",
      "4        Married-civilian spouse present                       White   \n",
      "...                                  ...                         ...   \n",
      "209494                     Never married                       White   \n",
      "209495   Married-civilian spouse present                       White   \n",
      "209496                     Never married                       White   \n",
      "209497   Married-civilian spouse present                       White   \n",
      "209498                     Never married                       Black   \n",
      "\n",
      "       is_hispanic      employment_commitment  ... country_of_birth_mother  \\\n",
      "0        All other         Not in labor force  ...                      US   \n",
      "1        All other   Children or Armed Forces  ...                      US   \n",
      "2        All other   Children or Armed Forces  ...                      US   \n",
      "3        All other   Children or Armed Forces  ...                   India   \n",
      "4        All other         Not in labor force  ...                      US   \n",
      "...            ...                        ...  ...                     ...   \n",
      "209494   All other         Not in labor force  ...                      US   \n",
      "209495   All other         Not in labor force  ...                  Canada   \n",
      "209496   All other   Children or Armed Forces  ...                      US   \n",
      "209497   All other   Children or Armed Forces  ...                      US   \n",
      "209498   All other   Children or Armed Forces  ...                      US   \n",
      "\n",
      "        migration_code_change_in_msa  migration_prev_sunbelt  \\\n",
      "0                                  ?                       ?   \n",
      "1                          unchanged                     NaN   \n",
      "2                          unchanged                     NaN   \n",
      "3                          unchanged                     NaN   \n",
      "4                                  ?                       ?   \n",
      "...                              ...                     ...   \n",
      "209494                             ?                       ?   \n",
      "209495                             ?                       ?   \n",
      "209496                             ?                       ?   \n",
      "209497                     unchanged                     NaN   \n",
      "209498                    MSA to MSA                    Same   \n",
      "\n",
      "       migration_code_move_within_reg  migration_code_change_in_reg  \\\n",
      "0                                   ?                             ?   \n",
      "1                           unchanged                     unchanged   \n",
      "2                           unchanged                     unchanged   \n",
      "3                           unchanged                     unchanged   \n",
      "4                                   ?                             ?   \n",
      "...                               ...                           ...   \n",
      "209494                              ?                             ?   \n",
      "209495                              ?                             ?   \n",
      "209496                              ?                             ?   \n",
      "209497                      unchanged                     unchanged   \n",
      "209498                    Same county                   Same county   \n",
      "\n",
      "        residence_1_year_ago old_residence_reg  old_residence_state  \\\n",
      "0                        NaN               NaN                  NaN   \n",
      "1                       Same               NaN                  NaN   \n",
      "2                       Same               NaN                  NaN   \n",
      "3                       Same               NaN                  NaN   \n",
      "4                        NaN               NaN                  NaN   \n",
      "...                      ...               ...                  ...   \n",
      "209494                   NaN               NaN                  NaN   \n",
      "209495                   NaN               NaN                  NaN   \n",
      "209496                   NaN               NaN                  NaN   \n",
      "209497                  Same               NaN                  NaN   \n",
      "209498                    No             South              Florida   \n",
      "\n",
      "       importance_of_record  income_above_limit  \n",
      "0                   1779.74         Below limit  \n",
      "1                   2366.75         Below limit  \n",
      "2                   1693.42         Below limit  \n",
      "3                   1380.27         Below limit  \n",
      "4                   1580.79         Below limit  \n",
      "...                     ...                 ...  \n",
      "209494              2170.60         Below limit  \n",
      "209495              1029.57         Below limit  \n",
      "209496               791.61         Below limit  \n",
      "209497              3530.26         Below limit  \n",
      "209498              1987.72         Below limit  \n",
      "\n",
      "[209499 rows x 43 columns]\n"
     ]
    }
   ],
   "source": [
    "#loading dataset  \n",
    "\n",
    "df = pd.read_csv('income_data.csv')\n",
    "print(df)"
   ]
  },
  {
   "cell_type": "code",
   "execution_count": null,
   "metadata": {},
   "outputs": [],
   "source": [
    "df.info() #getting info about null values"
   ]
  },
  {
   "cell_type": "code",
   "execution_count": null,
   "metadata": {},
   "outputs": [],
   "source": [
    "df.describe() #to me it seems like there is variance in each column by looking at the mean and standard deviatiom "
   ]
  },
  {
   "cell_type": "code",
   "execution_count": null,
   "metadata": {},
   "outputs": [],
   "source": [
    "df.isnull().sum()"
   ]
  },
  {
   "cell_type": "code",
   "execution_count": null,
   "metadata": {},
   "outputs": [],
   "source": [
    "df.shape"
   ]
  },
  {
   "cell_type": "code",
   "execution_count": null,
   "metadata": {},
   "outputs": [],
   "source": [
    "plt.figure(figsize=(25,25))\n",
    "sns.heatmap(df.isnull(), cmap='viridis') #checking for null values"
   ]
  },
  {
   "cell_type": "code",
   "execution_count": null,
   "metadata": {},
   "outputs": [],
   "source": [
    "missing_value_percent = df.isnull().sum() / df.shape[0] * 100\n",
    "print(missing_value_percent)   #using this i determined that 90% empty columns  will be dropped"
   ]
  },
  {
   "cell_type": "code",
   "execution_count": null,
   "metadata": {},
   "outputs": [],
   "source": [
    "df1=df.drop([\"ID\",\"household_summary\",\"education_institute\",\"unemployment_reason\",\"is_labor_union\",\"under_18_family\",\"veterans_admin_questionnaire\"\n",
    "            ,\"old_residence_state\",\"old_residence_reg\",\"migration_code_change_in_msa\",\"migration_prev_sunbelt\",\n",
    "            \"migration_code_move_within_reg\",\"migration_code_change_in_reg\"],axis=1)"
   ]
  },
  {
   "cell_type": "code",
   "execution_count": null,
   "metadata": {},
   "outputs": [],
   "source": [
    "missing_value_percent = df1.isnull().sum() / df1.shape[0] * 100 #storing in a different variable  \n",
    "print(missing_value_percent)   #checking to see how many columns need to dropped or filled\n",
    "df1.shape"
   ]
  },
  {
   "cell_type": "code",
   "execution_count": null,
   "metadata": {},
   "outputs": [],
   "source": [
    "df2=df1.dropna() #i also tried dropping empty rows "
   ]
  },
  {
   "cell_type": "code",
   "execution_count": null,
   "metadata": {},
   "outputs": [],
   "source": [
    "print(\"og data\",df.shape)\n",
    "print(\"1st clean ver data\",df1.shape)\n",
    "print(\"2nd clean ver data\",df2.shape) #but this way i was left with a very small dataset as compared to the original\n"
   ]
  },
  {
   "cell_type": "code",
   "execution_count": null,
   "metadata": {},
   "outputs": [],
   "source": [
    "print(df.tail(5))"
   ]
  },
  {
   "cell_type": "code",
   "execution_count": null,
   "metadata": {},
   "outputs": [],
   "source": [
    "df.nunique"
   ]
  },
  {
   "cell_type": "code",
   "execution_count": null,
   "metadata": {},
   "outputs": [],
   "source": [
    "column_types = df1.dtypes\n",
    "print(column_types)"
   ]
  },
  {
   "cell_type": "code",
   "execution_count": null,
   "metadata": {},
   "outputs": [],
   "source": [
    "numeric_columns = df1.select_dtypes(include=['number']).columns     #i used this to separate my numerical and categorical values\n",
    "categorical_columns = df1.select_dtypes(include=['object']).columns\n",
    "\n",
    "print(\"\\nNumeric Columns:\")\n",
    "print(numeric_columns)\n",
    "\n",
    "print(\"\\nCategorical Columns:\")\n",
    "print(categorical_columns)"
   ]
  },
  {
   "cell_type": "code",
   "execution_count": null,
   "metadata": {},
   "outputs": [],
   "source": [
    "unique_values = df1['income_above_limit'].value_counts() #i was considering oversampling at this point\n",
    "print(unique_values)"
   ]
  },
  {
   "cell_type": "code",
   "execution_count": null,
   "metadata": {},
   "outputs": [],
   "source": [
    "plt.figure(figsize=(10,12))\n",
    "sns.heatmap(df2.isnull(), cmap='viridis')"
   ]
  },
  {
   "cell_type": "code",
   "execution_count": null,
   "metadata": {},
   "outputs": [],
   "source": [
    "plt.figure(figsize=(10, 5)) #i am stuck at which columns are significant and which are not\n",
    "\n",
    "plt.subplot(1, 2, 1)\n",
    "category1_counts = df1['age'].value_counts()\n",
    "plt.bar(category1_counts.index, category1_counts, color='skyblue')\n",
    "plt.xlabel('Categories (gender)')\n",
    "plt.ylabel('Count')\n",
    "plt.title('Bar Plot for gender')\n",
    "\n",
    "plt.subplot(1, 2, 2)\n",
    "category2_counts = df1['education'].value_counts()\n",
    "plt.bar(category2_counts.index,category2_counts,color='lightcoral')\n",
    "plt.xlabel('Categories (education)')\n",
    "plt.ylabel('Count')\n",
    "plt.title('Bar Plot for education')\n",
    "\n",
    "# Adjust layout\n",
    "plt.tight_layout()"
   ]
  },
  {
   "cell_type": "code",
   "execution_count": null,
   "metadata": {},
   "outputs": [],
   "source": [
    "from yellowbrick.features import Rank1D\n",
    "\n",
    "# Instantiate the 1D visualizer with the Sharpiro ranking algorithm\n",
    "visualizer = Rank1D(features=feature_names, algorithm='shapiro')\n",
    "\n",
    "visualizer.fit(X, y)                # Fit the data to the visualizer\n",
    "visualizer.transform(X)             # Transform the data\n",
    "visualizer.poof()"
   ]
  },
  {
   "cell_type": "code",
   "execution_count": null,
   "metadata": {},
   "outputs": [],
   "source": []
  },
  {
   "cell_type": "code",
   "execution_count": null,
   "metadata": {},
   "outputs": [],
   "source": []
  },
  {
   "cell_type": "code",
   "execution_count": null,
   "metadata": {},
   "outputs": [],
   "source": []
  },
  {
   "cell_type": "code",
   "execution_count": null,
   "metadata": {},
   "outputs": [],
   "source": []
  },
  {
   "cell_type": "code",
   "execution_count": null,
   "metadata": {},
   "outputs": [],
   "source": []
  }
 ],
 "metadata": {
  "kernelspec": {
   "display_name": "Python 3",
   "language": "python",
   "name": "python3"
  },
  "language_info": {
   "codemirror_mode": {
    "name": "ipython",
    "version": 3
   },
   "file_extension": ".py",
   "mimetype": "text/x-python",
   "name": "python",
   "nbconvert_exporter": "python",
   "pygments_lexer": "ipython3",
   "version": "3.11.1"
  }
 },
 "nbformat": 4,
 "nbformat_minor": 2
}
